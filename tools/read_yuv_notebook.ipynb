{
 "cells": [
  {
   "cell_type": "markdown",
   "id": "b66d5425",
   "metadata": {},
   "source": [
    "# YUV Viewer Notebook\n",
    "This notebook reads and displays a frame from a YUV 4:2:0 video file."
   ]
  },
  {
   "cell_type": "code",
   "execution_count": null,
   "id": "65449507",
   "metadata": {},
   "outputs": [],
   "source": [
    "!pip install opencv-python"
   ]
  },
  {
   "cell_type": "code",
   "execution_count": null,
   "id": "d05c3cd1",
   "metadata": {},
   "outputs": [],
   "source": [
    "import numpy as np\n",
    "import cv2\n",
    "\n",
    "def read_yuv420_frame(filename, width, height, frame_idx=0):\n",
    "    frame_size = width * height * 3 // 2\n",
    "    with open(filename, 'rb') as f:\n",
    "        f.seek(frame_idx * frame_size)\n",
    "        yuv = np.frombuffer(f.read(frame_size), dtype=np.uint8)\n",
    "        if yuv.size < frame_size:\n",
    "            raise ValueError(\"Incomplete frame or frame index out of bounds.\")\n",
    "        y = yuv[0:width*height].reshape((height, width))\n",
    "        u = yuv[width*height:width*height + width*height//4].reshape((height//2, width//2))\n",
    "        v = yuv[width*height + width*height//4:].reshape((height//2, width//2))\n",
    "        u_up = cv2.resize(u, (width, height), interpolation=cv2.INTER_LINEAR)\n",
    "        v_up = cv2.resize(v, (width, height), interpolation=cv2.INTER_LINEAR)\n",
    "        yuv_img = cv2.merge((y, u_up, v_up))\n",
    "        bgr_img = cv2.cvtColor(yuv_img, cv2.COLOR_YUV2BGR)\n",
    "        return bgr_img\n"
   ]
  },
  {
   "cell_type": "code",
   "execution_count": null,
   "id": "18f5a513",
   "metadata": {},
   "outputs": [],
   "source": [
    "# Provide the path to your YUV file and its dimensions\n",
    "yuv_path = 'your_video.yuv'  # Replace with actual file path\n",
    "width = 1280\n",
    "height = 720\n",
    "frame_idx = 0\n"
   ]
  },
  {
   "cell_type": "code",
   "execution_count": null,
   "id": "6e12b5f2",
   "metadata": {},
   "outputs": [],
   "source": [
    "img = read_yuv420_frame(yuv_path, width, height, frame_idx)\n",
    "cv2.imshow(f'Frame {frame_idx}', img)\n",
    "cv2.waitKey(0)\n",
    "cv2.destroyAllWindows()\n"
   ]
  }
 ],
 "metadata": {},
 "nbformat": 4,
 "nbformat_minor": 5
}