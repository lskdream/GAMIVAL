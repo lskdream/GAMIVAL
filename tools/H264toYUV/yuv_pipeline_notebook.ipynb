{
 "cells": [
  {
   "cell_type": "markdown",
   "id": "b20f9381",
   "metadata": {},
   "source": [
    "# YUV Processing Pipeline (Notebook Version)\n",
    "\n",
    "This notebook provides a step-by-step pipeline for:\n",
    "1. Decoding `.264` pristine videos to `.yuv` in multiple resolutions.\n",
    "2. Encoding `.yuv` files with different CRF levels into `.264` (H.264 codec).\n",
    "3. Decoding encoded `.264` files back to `.yuv` for evaluation.\n"
   ]
  },
  {
   "cell_type": "code",
   "execution_count": null,
   "id": "13b1f786",
   "metadata": {},
   "outputs": [],
   "source": [
    "import os\n",
    "import subprocess\n",
    "from pathlib import Path\n",
    "\n",
    "def run_command(cmd):\n",
    "    print(\"Running:\", \" \".join(cmd))\n",
    "    subprocess.run(cmd, check=True)\n"
   ]
  },
  {
   "cell_type": "code",
   "execution_count": null,
   "id": "23fcadfa",
   "metadata": {},
   "outputs": [],
   "source": [
    "def decode_pristine_to_yuv(input_dir, output_dir, resolutions):\n",
    "    input_dir = Path(input_dir)\n",
    "    output_dir = Path(output_dir)\n",
    "    output_dir.mkdir(parents=True, exist_ok=True)\n",
    "\n",
    "    for f264 in input_dir.glob(\"*.264\"):\n",
    "        for res in resolutions:\n",
    "            out_res_dir = output_dir / res\n",
    "            out_res_dir.mkdir(parents=True, exist_ok=True)\n",
    "            name = f264.stem\n",
    "            out_path = out_res_dir / f\"{name}.yuv\"\n",
    "            width, height = map(int, res.split('x'))\n",
    "            cmd = [\n",
    "                \"ffmpeg\", \"-y\", \"-s\", \"1920x1080\", \"-i\", str(f264),\n",
    "                \"-vf\", f\"scale={width}:{height}:flags=lanczos\",\n",
    "                \"-pix_fmt\", \"yuv420p\", str(out_path)\n",
    "            ]\n",
    "            run_command(cmd)\n"
   ]
  },
  {
   "cell_type": "code",
   "execution_count": null,
   "id": "3e6e9e32",
   "metadata": {},
   "outputs": [],
   "source": [
    "def encode_yuv_to_h264(input_dir, output_dir, resolutions, crf_list):\n",
    "    input_dir = Path(input_dir)\n",
    "    output_dir = Path(output_dir)\n",
    "\n",
    "    for res in resolutions:\n",
    "        res_dir = input_dir / res\n",
    "        for yuv_file in res_dir.glob(\"*.yuv\"):\n",
    "            for crf in crf_list:\n",
    "                out_dir = output_dir / res / str(crf)\n",
    "                out_dir.mkdir(parents=True, exist_ok=True)\n",
    "                out_file = out_dir / f\"{yuv_file.stem}.264\"\n",
    "                width, height = map(int, res.split('x'))\n",
    "                cmd = [\n",
    "                    \"ffmpeg\", \"-y\", \"-s\", f\"{width}x{height}\", \"-pix_fmt\", \"yuv420p\", \"-i\", str(yuv_file),\n",
    "                    \"-c:v\", \"libx264\", \"-preset\", \"slow\", \"-crf\", str(crf), \"-f\", \"h264\", str(out_file)\n",
    "                ]\n",
    "                run_command(cmd)\n"
   ]
  },
  {
   "cell_type": "code",
   "execution_count": null,
   "id": "9c5ef979",
   "metadata": {},
   "outputs": [],
   "source": [
    "def decode_encoded_to_yuv(input_dir, output_dir, resolutions, crf_list):\n",
    "    input_dir = Path(input_dir)\n",
    "    output_dir = Path(output_dir)\n",
    "\n",
    "    for res in resolutions:\n",
    "        for crf in crf_list:\n",
    "            crf_dir = input_dir / res / str(crf)\n",
    "            for f264 in crf_dir.glob(\"*.264\"):\n",
    "                out_dir = output_dir / res / str(crf)\n",
    "                out_dir.mkdir(parents=True, exist_ok=True)\n",
    "                name = f264.stem\n",
    "                out_path = out_dir / f\"{name}.yuv\"\n",
    "                width, height = map(int, res.split('x'))\n",
    "                cmd = [\n",
    "                    \"ffmpeg\", \"-y\", \"-s\", f\"{width}x{height}\", \"-i\", str(f264),\n",
    "                    \"-pix_fmt\", \"yuv420p\", str(out_path)\n",
    "                ]\n",
    "                run_command(cmd)\n"
   ]
  },
  {
   "cell_type": "code",
   "execution_count": null,
   "id": "428f9b36",
   "metadata": {},
   "outputs": [],
   "source": [
    "# Example usage\n",
    "input_pristine = \"your_input_264_folder\"\n",
    "output_pristine_yuv = \"pristine_yuv420p\"\n",
    "output_encoded_264 = \"encoded\"\n",
    "output_encoded_yuv = \"encoded_yuv420p\"\n",
    "\n",
    "resolutions = [\"1280x720\", \"960x540\"]\n",
    "crf_values = [20, 28, 35]\n",
    "\n",
    "# Step 1: Decode pristine .264 to yuv\n",
    "decode_pristine_to_yuv(input_pristine, output_pristine_yuv, resolutions)\n",
    "\n",
    "# Step 2: Encode to h264 with CRF levels\n",
    "encode_yuv_to_h264(Path(output_pristine_yuv), Path(output_encoded_264), resolutions, crf_values)\n",
    "\n",
    "# Step 3: Decode back to yuv\n",
    "decode_encoded_to_yuv(Path(output_encoded_264), Path(output_encoded_yuv), resolutions, crf_values)\n"
   ]
  }
 ],
 "metadata": {},
 "nbformat": 4,
 "nbformat_minor": 5
}
